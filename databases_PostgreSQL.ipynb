{
  "nbformat": 4,
  "nbformat_minor": 0,
  "metadata": {
    "colab": {
      "provenance": [],
      "collapsed_sections": []
    },
    "kernelspec": {
      "name": "python3",
      "display_name": "Python 3"
    },
    "language_info": {
      "name": "python"
    }
  },
  "cells": [
    {
      "cell_type": "markdown",
      "source": [
        "### Creating a Table with PostgreSQL"
      ],
      "metadata": {
        "id": "x4T4ULjji3M_"
      }
    },
    {
      "cell_type": "code",
      "execution_count": null,
      "metadata": {
        "id": "D8GAx-SIhb8T"
      },
      "outputs": [],
      "source": [
        "!pip install psycopg2"
      ]
    },
    {
      "cell_type": "code",
      "source": [
        "# Import the library\n",
        "import psycopg2"
      ],
      "metadata": {
        "id": "_UMF9Ybni9-3"
      },
      "execution_count": null,
      "outputs": []
    },
    {
      "cell_type": "code",
      "source": [
        "# Create a connection to the database\n",
        "try: \n",
        "    conn = psycopg2.connect(\"host=127.0.0.1 dbname=postgres user=postgres password=root\")\n",
        "except psycopg2.Error as e: \n",
        "    print(\"Error: Could not make connection to the Postgres database\")\n",
        "    print(e)"
      ],
      "metadata": {
        "id": "2SKXtDKGjFi6"
      },
      "execution_count": null,
      "outputs": []
    },
    {
      "cell_type": "code",
      "source": [
        "# Use the connection to get a cursor that can be used to execute queries.\n",
        "\n",
        "try: \n",
        "    cur = conn.cursor()\n",
        "except psycopg2.Error as e: \n",
        "    print(\"Error: Could not get curser to the Database\")\n",
        "    print(e)"
      ],
      "metadata": {
        "id": "IC-TDuLjjLfY"
      },
      "execution_count": null,
      "outputs": []
    },
    {
      "cell_type": "markdown",
      "source": [
        "Set automatic commit to be true so that each action is committed without having to call conn.commit() after each command."
      ],
      "metadata": {
        "id": "OXsGPjw1jTNt"
      }
    },
    {
      "cell_type": "code",
      "source": [
        "conn.set_session(autocommit=True)"
      ],
      "metadata": {
        "id": "lateKxDKjRKe"
      },
      "execution_count": null,
      "outputs": []
    },
    {
      "cell_type": "code",
      "source": [
        "# Create a database to do the work in\n",
        "try: \n",
        "    cur.execute(\"create database myfirstdb\")\n",
        "except psycopg2.Error as e:\n",
        "    print(e)"
      ],
      "metadata": {
        "id": "t7dOfP1YjYYj"
      },
      "execution_count": null,
      "outputs": []
    },
    {
      "cell_type": "markdown",
      "source": [
        "Add the database name in the connect statement. Let's close our connection to the default database, reconnect to the Udacity database, and get a new cursor."
      ],
      "metadata": {
        "id": "L_eO8gcYjiNN"
      }
    },
    {
      "cell_type": "code",
      "source": [
        "try: \n",
        "    conn.close()\n",
        "except psycopg2.Error as e:\n",
        "    print(e)\n",
        "    \n",
        "try: \n",
        "    conn = psycopg2.connect(\"host=127.0.0.1 dbname=myfirstdb user=postgres password=root\")\n",
        "except psycopg2.Error as e: \n",
        "    print(\"Error: Could not make connection to the Postgres database\")\n",
        "    print(e)\n",
        "    \n",
        "try: \n",
        "    cur = conn.cursor()\n",
        "except psycopg2.Error as e: \n",
        "    print(\"Error: Could not get curser to the Database\")\n",
        "    print(e)\n",
        "\n",
        "conn.set_session(autocommit=True)\n"
      ],
      "metadata": {
        "id": "D0NUVcp8jfDu"
      },
      "execution_count": null,
      "outputs": []
    },
    {
      "cell_type": "markdown",
      "source": [
        "### Create Table for students which includes below columns\n",
        "- Student_id\n",
        "- Name\n",
        "- Age\n",
        "- Gender\n",
        "- Subject\n",
        "- Marks"
      ],
      "metadata": {
        "id": "p_MyLCGEjv8J"
      }
    },
    {
      "cell_type": "code",
      "source": [
        "try: \n",
        "    cur.execute(\"CREATE TABLE IF NOT EXISTS students (student_id int, name varchar,\\\n",
        "    age int, gender varchar, subject varchar, marks int);\")\n",
        "except psycopg2.Error as e: \n",
        "    print(\"Error: Issue creating table\")\n",
        "    print (e)"
      ],
      "metadata": {
        "id": "QFHeMzmmjtC0"
      },
      "execution_count": null,
      "outputs": []
    },
    {
      "cell_type": "markdown",
      "source": [
        "Insert the following two rows in the table\n",
        "\n",
        "- First Row: 1, \"Raj\", 23, \"Male\", \"Python\", 85\n",
        "\n",
        "- Second Row: 2, \"Priya\", 22, \"Female\", \"Python\", 86"
      ],
      "metadata": {
        "id": "TB0Opr4akF7t"
      }
    },
    {
      "cell_type": "code",
      "source": [
        "try: \n",
        "    cur.execute(\"INSERT INTO students (student_id, name, age, gender, subject, marks) \\\n",
        "                 VALUES (%s, %s, %s, %s, %s, %s)\", \\\n",
        "                 (1, \"Raj\", 23, \"Male\", \"Python\", 85))\n",
        "except psycopg2.Error as e: \n",
        "    print(\"Error: Inserting Rows\")\n",
        "    print (e)\n",
        "    \n",
        "try: \n",
        "    cur.execute(\"INSERT INTO students (student_id, name, age, gender, subject, marks) \\\n",
        "                  VALUES (%s, %s, %s, %s, %s, %s)\",\n",
        "                  ( 2, \"Priya\", 22, \"Female\", \"Python\", 86))\n",
        "except psycopg2.Error as e: \n",
        "    print(\"Error: Inserting Rows\")\n",
        "    print (e)"
      ],
      "metadata": {
        "id": "D6vJVsbRkBJ1"
      },
      "execution_count": null,
      "outputs": []
    },
    {
      "cell_type": "code",
      "source": [
        "# Validate your data was inserted into the table.\n",
        "try: \n",
        "    cur.execute(\"SELECT * FROM students;\")\n",
        "except psycopg2.Error as e: \n",
        "    print(\"Error: select *\")\n",
        "    print (e)\n",
        "\n",
        "row = cur.fetchone()\n",
        "while row:\n",
        "    print(row)\n",
        "    row = cur.fetchone()"
      ],
      "metadata": {
        "id": "668PiQfakOu7"
      },
      "execution_count": null,
      "outputs": []
    },
    {
      "cell_type": "code",
      "source": [
        "# And finally close your cursor and connection.\n",
        "cur.close()\n",
        "conn.close()"
      ],
      "metadata": {
        "id": "AI-Htgn8kVvs"
      },
      "execution_count": null,
      "outputs": []
    }
  ]
}